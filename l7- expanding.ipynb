{
 "cells": [
  {
   "cell_type": "markdown",
   "id": "8de529e8-3891-4f47-8585-65b92b80bbf7",
   "metadata": {},
   "source": [
    "# Expanding\n",
    "In this lesson, you will generate customer service emails that are tailored to each customer's review.\n",
    "\n",
    "## Setup"
   ]
  },
  {
   "cell_type": "code",
   "execution_count": 1,
   "id": "e23399a9",
   "metadata": {
    "height": 149
   },
   "outputs": [],
   "source": [
    "import openai\n",
    "import os\n",
    "\n",
    "from dotenv import load_dotenv, find_dotenv\n",
    "_ = load_dotenv(find_dotenv()) # read local .env file\n",
    "\n",
    "openai.api_key  = os.getenv('OPENAI_API_KEY')"
   ]
  },
  {
   "cell_type": "code",
   "execution_count": 2,
   "id": "4c943900-98db-40b3-b639-7822ee2c5fd8",
   "metadata": {
    "height": 166
   },
   "outputs": [],
   "source": [
    "def get_completion(prompt, model=\"gpt-3.5-turbo\",temperature=0): # Andrew mentioned that the prompt/ completion paradigm is preferable for this class\n",
    "    messages = [{\"role\": \"user\", \"content\": prompt}]\n",
    "    response = openai.ChatCompletion.create(\n",
    "        model=model,\n",
    "        messages=messages,\n",
    "        temperature=temperature, # this is the degree of randomness of the model's output\n",
    "    )\n",
    "    return response.choices[0].message[\"content\"]"
   ]
  },
  {
   "cell_type": "markdown",
   "id": "f8ceea77-990a-4c64-bb49-3ba65eb155d2",
   "metadata": {},
   "source": [
    "## Customize the automated reply to a customer email"
   ]
  },
  {
   "cell_type": "code",
   "execution_count": 3,
   "id": "c30c4239",
   "metadata": {
    "height": 659
   },
   "outputs": [],
   "source": [
    "# given the sentiment from the lesson on \"inferring\",\n",
    "# and the original customer message, customize the email\n",
    "sentiment = \"negative\"\n",
    "\n",
    "# review for a blender\n",
    "review = f\"\"\"\n",
    "So, they still had the 17 piece system on seasonal \\\n",
    "sale for around $49 in the month of November, about \\\n",
    "half off, but for some reason (call it price gouging) \\\n",
    "around the second week of December the prices all went \\\n",
    "up to about anywhere from between $70-$89 for the same \\\n",
    "system. And the 11 piece system went up around $10 or \\\n",
    "so in price also from the earlier sale price of $29. \\\n",
    "So it looks okay, but if you look at the base, the part \\\n",
    "where the blade locks into place doesn’t look as good \\\n",
    "as in previous editions from a few years ago, but I \\\n",
    "plan to be very gentle with it (example, I crush \\\n",
    "very hard items like beans, ice, rice, etc. in the \\ \n",
    "blender first then pulverize them in the serving size \\\n",
    "I want in the blender then switch to the whipping \\\n",
    "blade for a finer flour, and use the cross cutting blade \\\n",
    "first when making smoothies, then use the flat blade \\\n",
    "if I need them finer/less pulpy). Special tip when making \\\n",
    "smoothies, finely cut and freeze the fruits and \\\n",
    "vegetables (if using spinach-lightly stew soften the \\ \n",
    "spinach then freeze until ready for use-and if making \\\n",
    "sorbet, use a small to medium sized food processor) \\ \n",
    "that you plan to use that way you can avoid adding so \\\n",
    "much ice if at all-when making your smoothie. \\\n",
    "After about a year, the motor was making a funny noise. \\\n",
    "I called customer service but the warranty expired \\\n",
    "already, so I had to buy another one. FYI: The overall \\\n",
    "quality has gone done in these types of products, so \\\n",
    "they are kind of counting on brand recognition and \\\n",
    "consumer loyalty to maintain sales. Got it in about \\\n",
    "two days.\n",
    "\"\"\""
   ]
  },
  {
   "cell_type": "code",
   "execution_count": 4,
   "id": "d5403f73",
   "metadata": {
    "height": 319
   },
   "outputs": [
    {
     "name": "stdout",
     "output_type": "stream",
     "text": [
      "Dear Valued Customer,\n",
      "\n",
      "Thank you for taking the time to share your review with us. We appreciate your feedback and apologize for any inconvenience you may have experienced.\n",
      "\n",
      "We are sorry to hear about the price increase you noticed in December. We strive to provide competitive prices for our customers, and we understand your frustration. If you have any further concerns regarding pricing, we recommend reaching out to our customer service team who will be happy to assist you.\n",
      "\n",
      "We also appreciate your feedback regarding the base of the system. We continuously work to improve the quality of our products, and your comments will be taken into consideration for future enhancements.\n",
      "\n",
      "We apologize for any inconvenience caused by the motor issue you encountered. Our customer service team is available to assist you with any product-related concerns, even if the warranty has expired. Please feel free to contact them for further assistance.\n",
      "\n",
      "Thank you once again for your review. We value your feedback and will use it to improve our products and services. If you have any other questions or concerns, please do not hesitate to reach out to us.\n",
      "\n",
      "Best regards,\n",
      "\n",
      "AI customer agent\n"
     ]
    }
   ],
   "source": [
    "prompt = f\"\"\"\n",
    "You are a customer service AI assistant.\n",
    "Your task is to send an email reply to a valued customer.\n",
    "Given the customer email delimited by ```, \\\n",
    "Generate a reply to thank the customer for their review.\n",
    "If the sentiment is positive or neutral, thank them for \\\n",
    "their review.\n",
    "If the sentiment is negative, apologize and suggest that \\\n",
    "they can reach out to customer service. \n",
    "Make sure to use specific details from the review.\n",
    "Write in a concise and professional tone.\n",
    "Sign the email as `AI customer agent`.\n",
    "Customer review: ```{review}```\n",
    "Review sentiment: {sentiment}\n",
    "\"\"\"\n",
    "response = get_completion(prompt)\n",
    "print(response)"
   ]
  },
  {
   "cell_type": "markdown",
   "id": "55605ee0-118c-4c46-a917-4981a43fcad3",
   "metadata": {},
   "source": [
    "## Remind the model to use details from the customer's email"
   ]
  },
  {
   "cell_type": "code",
   "execution_count": 5,
   "id": "1d5ea7c8",
   "metadata": {
    "height": 319
   },
   "outputs": [
    {
     "name": "stdout",
     "output_type": "stream",
     "text": [
      "Dear valued customer,\n",
      "\n",
      "Thank you for taking the time to share your review with us. We appreciate your feedback and apologize for any inconvenience you may have experienced with our pricing and the quality of our product.\n",
      "\n",
      "We understand your frustration regarding the increase in prices during the second week of December. We strive to offer competitive prices and occasionally adjust them based on various factors. We apologize if this caused any confusion or disappointment.\n",
      "\n",
      "We also apologize for the issue you faced with the motor noise and the expired warranty. We value your loyalty and would like to further assist you in resolving this matter. Please feel free to reach out to our customer service team, who will be more than happy to help you find a solution.\n",
      "\n",
      "We appreciate your suggestion regarding the blade lock and will certainly take it into consideration for future product improvements. Your feedback is valuable to us as we continuously work towards enhancing our products.\n",
      "\n",
      "Once again, we apologize for any inconvenience caused. We hope to have the opportunity to serve you better in the future. If you have any further questions or concerns, please do not hesitate to contact our customer service team.\n",
      "\n",
      "Thank you for choosing our brand.\n",
      "\n",
      "Best regards,\n",
      "\n",
      "AI customer agent\n"
     ]
    }
   ],
   "source": [
    "prompt = f\"\"\"\n",
    "You are a customer service AI assistant.\n",
    "Your task is to send an email reply to a valued customer.\n",
    "Given the customer email delimited by ```, \\\n",
    "Generate a reply to thank the customer for their review.\n",
    "If the sentiment is positive or neutral, thank them for \\\n",
    "their review.\n",
    "If the sentiment is negative, apologize and suggest that \\\n",
    "they can reach out to customer service. \n",
    "Make sure to use specific details from the review.\n",
    "Write in a concise and professional tone.\n",
    "Sign the email as `AI customer agent`.\n",
    "Customer review: ```{review}```\n",
    "Review sentiment: {sentiment}\n",
    "\"\"\"\n",
    "response = get_completion(prompt, temperature=0.7)\n",
    "print(response)"
   ]
  },
  {
   "cell_type": "markdown",
   "id": "31e317ad-9e51-4e7a-90c3-d88e7bf8a98c",
   "metadata": {},
   "source": [
    "## Try experimenting on your own!"
   ]
  },
  {
   "cell_type": "code",
   "execution_count": 8,
   "id": "ffa65c7e",
   "metadata": {
    "height": 306
   },
   "outputs": [
    {
     "name": "stdout",
     "output_type": "stream",
     "text": [
      "Dear valued customer,\n",
      "\n",
      "Thank you for taking the time to share your experience with us. We appreciate your feedback, even if it's as bumpy as a blender on high speed.\n",
      "\n",
      "We apologize for any confusion caused by the fluctuating prices. It seems like our pricing strategy went haywire, and we understand how frustrating that can be. We assure you that we are not in the business of price gouging, unless you count the occasional accidental smoothie explosion.\n",
      "\n",
      "Regarding the base of the system, we understand your concern. We'll make sure to pass on your feedback to our blender engineers, who are currently working on perfecting the art of blending without any funny business. We appreciate your gentleness with the blender, but please remember that it's not a stress ball. It prefers to blend, not be crushed.\n",
      "\n",
      "Your tips for making smoothies are truly innovative! We never thought of freezing fruits and vegetables before blending them. It's like giving them a taste of winter before they become a refreshing drink. We'll definitely share this tip with our other customers, but we can't guarantee that they won't start freezing everything in their kitchen.\n",
      "\n",
      "We're sorry to hear about the motor noise and the expired warranty. It seems like our blender had a funny bone, but unfortunately, laughter doesn't fix motors. If you ever encounter any issues in the future, please don't hesitate to reach out to our customer service team. They're experts at handling both serious and funny blender situations.\n",
      "\n",
      "We appreciate your loyalty and trust in our brand, even though we may have stumbled along the way. Rest assured, we're constantly striving to improve our products and provide the best blending experience possible. We hope that your next blender will last longer than a stand-up comedian's punchline.\n",
      "\n",
      "Thank you again for your feedback, and we hope to blend with you again soon!\n",
      "\n",
      "Sincerely,\n",
      "AI customer agent\n"
     ]
    }
   ],
   "source": [
    "prompt = f\"\"\"\n",
    "You are a satirical customer service AI assistant, since \\\n",
    "we're a comedy and skit creation company. We're working on \\\n",
    "creating funny, engaging content for our customers.\n",
    "Your task is to send funny email replies to our customers.\n",
    "Given the customer email delimited by ```, \\\n",
    "Generate a reply to their review.\n",
    "If the sentiment is positive or neutral, make the reply more fun\\\n",
    "If the sentiment is negative, apologize and suggest that \\\n",
    "they can reach out to customer service. \n",
    "Make sure to use specific details from the review.\n",
    "Write in a formal but funny, whimsical and commical tone.\n",
    "Sign the email as `AI customer agent`.\n",
    "Customer review: ```{review}```\n",
    "Review sentiment: {sentiment}\n",
    "\"\"\"\n",
    "response = get_completion(prompt)\n",
    "print(response)"
   ]
  },
  {
   "cell_type": "code",
   "execution_count": null,
   "id": "ca367335",
   "metadata": {
    "height": 30
   },
   "outputs": [],
   "source": []
  }
 ],
 "metadata": {
  "kernelspec": {
   "display_name": "Python 3 (ipykernel)",
   "language": "python",
   "name": "python3"
  },
  "language_info": {
   "codemirror_mode": {
    "name": "ipython",
    "version": 3
   },
   "file_extension": ".py",
   "mimetype": "text/x-python",
   "name": "python",
   "nbconvert_exporter": "python",
   "pygments_lexer": "ipython3",
   "version": "3.9.16"
  }
 },
 "nbformat": 4,
 "nbformat_minor": 5
}
